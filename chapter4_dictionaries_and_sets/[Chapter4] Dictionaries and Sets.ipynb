{
 "cells": [
  {
   "cell_type": "markdown",
   "metadata": {},
   "source": [
    "#### Example 4-1. Phone book lookup with a list"
   ]
  },
  {
   "cell_type": "code",
   "execution_count": 1,
   "metadata": {},
   "outputs": [],
   "source": [
    "def find_phonenumber(phonebook, name):\n",
    "    for n, p in phonebook:\n",
    "        if n == name:\n",
    "            return p\n",
    "    return none"
   ]
  },
  {
   "cell_type": "code",
   "execution_count": 2,
   "metadata": {},
   "outputs": [
    {
     "name": "stdout",
     "output_type": "stream",
     "text": [
      "John Doe's phone number is 555-555-5555\n"
     ]
    }
   ],
   "source": [
    "phonebook = [\n",
    "    (\"John Doe\", \"555-555-5555\"),\n",
    "    (\"Albert Einstein\", \"212-555-5555\")\n",
    "]\n",
    "\n",
    "print(\"John Doe's phone number is\", find_phonenumber(phonebook, \"John Doe\"))"
   ]
  },
  {
   "cell_type": "code",
   "execution_count": 3,
   "metadata": {},
   "outputs": [
    {
     "name": "stdout",
     "output_type": "stream",
     "text": [
      "160 ns ± 7.44 ns per loop (mean ± std. dev. of 7 runs, 10000000 loops each)\n"
     ]
    }
   ],
   "source": [
    "%timeit find_phonenumber(phonebook, \"John Doe\")"
   ]
  },
  {
   "cell_type": "markdown",
   "metadata": {},
   "source": [
    "#### Example 4-2. Phone book lookup with a dictionary"
   ]
  },
  {
   "cell_type": "code",
   "execution_count": 4,
   "metadata": {},
   "outputs": [
    {
     "name": "stdout",
     "output_type": "stream",
     "text": [
      "John Doe's phone number is 555-555-5555\n"
     ]
    }
   ],
   "source": [
    "phonebook = {\n",
    "    \"John Doe\": \"555-555-5555\",\n",
    "    \"Albert Einstein\": \"212-555-5555\"\n",
    "}\n",
    "\n",
    "print(\"John Doe's phone number is\", phonebook[\"John Doe\"])"
   ]
  },
  {
   "cell_type": "code",
   "execution_count": 5,
   "metadata": {},
   "outputs": [
    {
     "name": "stdout",
     "output_type": "stream",
     "text": [
      "45.2 ns ± 1.85 ns per loop (mean ± std. dev. of 7 runs, 10000000 loops each)\n"
     ]
    }
   ],
   "source": [
    "%timeit phonebook[\"John Doe\"]"
   ]
  },
  {
   "cell_type": "markdown",
   "metadata": {},
   "source": [
    "#### Result\n",
    "Lookup with a dictionary is 4x faster than that with a list."
   ]
  },
  {
   "cell_type": "markdown",
   "metadata": {},
   "source": [
    "<hr>"
   ]
  },
  {
   "cell_type": "markdown",
   "metadata": {},
   "source": [
    "#### Example 4-3. Finding unique names with lists and sets"
   ]
  },
  {
   "cell_type": "code",
   "execution_count": 6,
   "metadata": {},
   "outputs": [],
   "source": [
    "def list_unique_names(phonebook):\n",
    "    unique_names = []\n",
    "    \n",
    "    for name, phonenumber in phonebook:\n",
    "        is_added = True\n",
    "        first_name, last_name = name.split(\" \", 1)\n",
    "        for unique in unique_names:\n",
    "            if unique == first_name:\n",
    "                is_added = False\n",
    "                break\n",
    "        if is_added:\n",
    "            unique_names.append(first_name)\n",
    "    \n",
    "    return len(unique_names)"
   ]
  },
  {
   "cell_type": "code",
   "execution_count": 7,
   "metadata": {},
   "outputs": [],
   "source": [
    "def set_unique_names(phonebook):\n",
    "    unique_names = set()\n",
    "    \n",
    "    for name, phonenumber in phonebook:\n",
    "        first_name, last_name = name.split(\" \", 1)\n",
    "        unique_names.add(first_name)\n",
    "    \n",
    "    return len(unique_names)"
   ]
  },
  {
   "cell_type": "code",
   "execution_count": 8,
   "metadata": {},
   "outputs": [],
   "source": [
    "phonebook = [\n",
    "    (\"John Doe\", \"555-555-5555\"),\n",
    "    (\"Albert Einstein\", \"212-555-5555\"),\n",
    "    (\"John Murphey\", \"202-555-5555\"),\n",
    "    (\"Albert Rutherford\", \"647-555-5555\"),\n",
    "    (\"Elaine Bodian\", \"301-555-5555\")\n",
    "]"
   ]
  },
  {
   "cell_type": "code",
   "execution_count": 9,
   "metadata": {},
   "outputs": [
    {
     "name": "stdout",
     "output_type": "stream",
     "text": [
      "Number of unique names from set method: 3\n",
      "Number of unique names from list method: 3\n"
     ]
    }
   ],
   "source": [
    "print(\"Number of unique names from set method:\", set_unique_names(phonebook))\n",
    "print(\"Number of unique names from list method:\", list_unique_names(phonebook))"
   ]
  },
  {
   "cell_type": "code",
   "execution_count": 10,
   "metadata": {},
   "outputs": [
    {
     "name": "stdout",
     "output_type": "stream",
     "text": [
      "1.72 µs ± 52.8 ns per loop (mean ± std. dev. of 7 runs, 1000000 loops each)\n"
     ]
    }
   ],
   "source": [
    "%timeit set_unique_names(phonebook)"
   ]
  },
  {
   "cell_type": "code",
   "execution_count": 11,
   "metadata": {},
   "outputs": [
    {
     "name": "stdout",
     "output_type": "stream",
     "text": [
      "1.81 µs ± 66.1 ns per loop (mean ± std. dev. of 7 runs, 1000000 loops each)\n"
     ]
    }
   ],
   "source": [
    "%timeit list_unique_names(phonebook)"
   ]
  },
  {
   "cell_type": "markdown",
   "metadata": {},
   "source": [
    "#### Result\n",
    "When the size of data is small, process time is almost similar."
   ]
  },
  {
   "cell_type": "markdown",
   "metadata": {},
   "source": [
    "<hr>"
   ]
  },
  {
   "cell_type": "markdown",
   "metadata": {},
   "source": [
    "#### Problem\n",
    "Is there a difference in processing time as the size of the list grows?"
   ]
  },
  {
   "cell_type": "code",
   "execution_count": 12,
   "metadata": {},
   "outputs": [],
   "source": [
    "import pandas as pd"
   ]
  },
  {
   "cell_type": "code",
   "execution_count": 13,
   "metadata": {},
   "outputs": [],
   "source": [
    "df = pd.read_csv(\"../data/phone_number.csv\")"
   ]
  },
  {
   "cell_type": "code",
   "execution_count": 14,
   "metadata": {},
   "outputs": [
    {
     "data": {
      "text/html": [
       "<div>\n",
       "<style scoped>\n",
       "    .dataframe tbody tr th:only-of-type {\n",
       "        vertical-align: middle;\n",
       "    }\n",
       "\n",
       "    .dataframe tbody tr th {\n",
       "        vertical-align: top;\n",
       "    }\n",
       "\n",
       "    .dataframe thead th {\n",
       "        text-align: right;\n",
       "    }\n",
       "</style>\n",
       "<table border=\"1\" class=\"dataframe\">\n",
       "  <thead>\n",
       "    <tr style=\"text-align: right;\">\n",
       "      <th></th>\n",
       "      <th>name</th>\n",
       "      <th>phone number</th>\n",
       "    </tr>\n",
       "  </thead>\n",
       "  <tbody>\n",
       "    <tr>\n",
       "      <th>0</th>\n",
       "      <td>John Cline</td>\n",
       "      <td>251-690-503</td>\n",
       "    </tr>\n",
       "    <tr>\n",
       "      <th>1</th>\n",
       "      <td>Malaki Glenn</td>\n",
       "      <td>322-337-492</td>\n",
       "    </tr>\n",
       "    <tr>\n",
       "      <th>2</th>\n",
       "      <td>Julie Pitts</td>\n",
       "      <td>756-914-220</td>\n",
       "    </tr>\n",
       "    <tr>\n",
       "      <th>3</th>\n",
       "      <td>Samanta Marks</td>\n",
       "      <td>363-663-339</td>\n",
       "    </tr>\n",
       "    <tr>\n",
       "      <th>4</th>\n",
       "      <td>Maisie Salgado</td>\n",
       "      <td>861-184-838</td>\n",
       "    </tr>\n",
       "  </tbody>\n",
       "</table>\n",
       "</div>"
      ],
      "text/plain": [
       "             name phone number\n",
       "0      John Cline  251-690-503\n",
       "1    Malaki Glenn  322-337-492\n",
       "2     Julie Pitts  756-914-220\n",
       "3   Samanta Marks  363-663-339\n",
       "4  Maisie Salgado  861-184-838"
      ]
     },
     "execution_count": 14,
     "metadata": {},
     "output_type": "execute_result"
    }
   ],
   "source": [
    "df.head()"
   ]
  },
  {
   "cell_type": "code",
   "execution_count": 15,
   "metadata": {},
   "outputs": [
    {
     "data": {
      "text/plain": [
       "[('John Cline', '251-690-503'),\n",
       " ('Malaki Glenn', '322-337-492'),\n",
       " ('Julie Pitts', '756-914-220'),\n",
       " ('Samanta Marks', '363-663-339'),\n",
       " ('Maisie Salgado', '861-184-838')]"
      ]
     },
     "execution_count": 15,
     "metadata": {},
     "output_type": "execute_result"
    }
   ],
   "source": [
    "records = df.to_records(index=False)\n",
    "phonebook = list(records)\n",
    "phonebook[0:5]"
   ]
  },
  {
   "cell_type": "code",
   "execution_count": 16,
   "metadata": {},
   "outputs": [
    {
     "name": "stdout",
     "output_type": "stream",
     "text": [
      "Number of unique names from set method: 903\n",
      "Number of unique names from list method: 903\n"
     ]
    }
   ],
   "source": [
    "print(\"Number of unique names from set method:\", set_unique_names(phonebook))\n",
    "print(\"Number of unique names from list method:\", list_unique_names(phonebook))"
   ]
  },
  {
   "cell_type": "code",
   "execution_count": 17,
   "metadata": {},
   "outputs": [
    {
     "name": "stdout",
     "output_type": "stream",
     "text": [
      "3.12 ms ± 284 µs per loop (mean ± std. dev. of 7 runs, 100 loops each)\n"
     ]
    }
   ],
   "source": [
    "%timeit set_unique_names(phonebook)"
   ]
  },
  {
   "cell_type": "code",
   "execution_count": 18,
   "metadata": {},
   "outputs": [
    {
     "name": "stdout",
     "output_type": "stream",
     "text": [
      "15.3 ms ± 917 µs per loop (mean ± std. dev. of 7 runs, 100 loops each)\n"
     ]
    }
   ],
   "source": [
    "%timeit list_unique_names(phonebook)"
   ]
  },
  {
   "cell_type": "markdown",
   "metadata": {},
   "source": [
    "#### Result\n",
    "The set algorithm gave us a 3x speedup! This is because the loop counts are different. \n",
    "- set_unique_names -> O(n)\n",
    "- list_unique_names -> O(n log n)"
   ]
  },
  {
   "cell_type": "markdown",
   "metadata": {},
   "source": [
    "## How Do Dictionaries and Sets Work?"
   ]
  },
  {
   "cell_type": "markdown",
   "metadata": {},
   "source": [
    "#### Example 4-4. Dictionary lookup sequence"
   ]
  },
  {
   "cell_type": "code",
   "execution_count": 19,
   "metadata": {},
   "outputs": [],
   "source": [
    "def index_sequence(key, mask=0b111, PERTURB_SHIFT=5):\n",
    "    perturb = hash(key)\n",
    "    i = perturb & mask\n",
    "    yield i\n",
    "    while True:\n",
    "        perturb >>= PERTURB_SHIFT\n",
    "        i = ((i << 2) + i + perturb + 1)\n",
    "        yield i & mask"
   ]
  },
  {
   "cell_type": "code",
   "execution_count": 20,
   "metadata": {},
   "outputs": [
    {
     "data": {
      "text/plain": [
       "[7, 4, 5, 2, 3, 0, 1, 6, 7, 4, 5, 2]"
      ]
     },
     "execution_count": 20,
     "metadata": {},
     "output_type": "execute_result"
    }
   ],
   "source": [
    "from itertools import islice\n",
    "\n",
    "class TestHash(object):\n",
    "    def __init__(self, test_hash):\n",
    "        self.test_hash = test_hash\n",
    "\n",
    "    def __hash__(self):\n",
    "        return self.test_hash\n",
    "\n",
    "    \n",
    "probe_index_iter = index_sequence(TestHash(0b111))\n",
    "indexes = islice(probe_index_iter, 12)\n",
    "list(indexes)"
   ]
  },
  {
   "cell_type": "markdown",
   "metadata": {},
   "source": [
    "#### Result\n",
    "When insertion of a key causes a collision, a new index is calculated using the scheme in Example 4-4. (Iterator)"
   ]
  },
  {
   "cell_type": "markdown",
   "metadata": {},
   "source": [
    "### Hash Functions and Entropy"
   ]
  },
  {
   "cell_type": "code",
   "execution_count": 21,
   "metadata": {},
   "outputs": [],
   "source": [
    "class Point(object):\n",
    "    def __init__(self, x, y):\n",
    "        self.x, self.y = x, y"
   ]
  },
  {
   "cell_type": "code",
   "execution_count": 22,
   "metadata": {},
   "outputs": [
    {
     "name": "stdout",
     "output_type": "stream",
     "text": [
      "{<__main__.Point object at 0x129e13dd8>, <__main__.Point object at 0x129e130f0>}\n"
     ]
    },
    {
     "data": {
      "text/plain": [
       "False"
      ]
     },
     "execution_count": 22,
     "metadata": {},
     "output_type": "execute_result"
    }
   ],
   "source": [
    "p1 = Point(1,1)\n",
    "p2 = Point(1,1)\n",
    "\n",
    "print(set([p1, p2]))\n",
    "Point(1,1) in set([p1, p2])"
   ]
  },
  {
   "cell_type": "markdown",
   "metadata": {},
   "source": [
    "#### Result\n",
    "Two instances (p1 and p2) of a class are generally different and should not collide in a hash table. So both instances would result in individual entries."
   ]
  },
  {
   "cell_type": "markdown",
   "metadata": {},
   "source": [
    "<hr>"
   ]
  },
  {
   "cell_type": "markdown",
   "metadata": {},
   "source": [
    "#### Problem\n",
    "What if  we don't want to add the instance in a set, when an instance with the same property values already exists in a set?"
   ]
  },
  {
   "cell_type": "code",
   "execution_count": 23,
   "metadata": {},
   "outputs": [],
   "source": [
    "class Point(object):\n",
    "    def __init__(self, x, y):\n",
    "        self.x, self.y = x, y\n",
    "    \n",
    "    def __hash__(self):\n",
    "        return hash((self.x, self.y))\n",
    "    \n",
    "    def __eq__(self, other):\n",
    "        return self.x == other.x and self.y == other.y"
   ]
  },
  {
   "cell_type": "code",
   "execution_count": 24,
   "metadata": {},
   "outputs": [
    {
     "name": "stdout",
     "output_type": "stream",
     "text": [
      "{<__main__.Point object at 0x129e16ef0>}\n"
     ]
    },
    {
     "data": {
      "text/plain": [
       "True"
      ]
     },
     "execution_count": 24,
     "metadata": {},
     "output_type": "execute_result"
    }
   ],
   "source": [
    "p1 = Point(1,1)\n",
    "p2 = Point(1,1)\n",
    "\n",
    "print(set([p1, p2]))\n",
    "Point(1,1) in set([p1, p2])"
   ]
  },
  {
   "cell_type": "markdown",
   "metadata": {},
   "source": [
    "#### Example 4-7. Timing differences between good and bad hashing functions"
   ]
  },
  {
   "cell_type": "code",
   "execution_count": 25,
   "metadata": {},
   "outputs": [],
   "source": [
    "import string\n",
    "import timeit\n",
    "\n",
    "class BadHash(str):\n",
    "    def __hash__(self):\n",
    "        return 42\n",
    "    \n",
    "class GoodHash(str):\n",
    "    def __hash__(self):\n",
    "        \"\"\"\n",
    "        This is a slightly optimized version of twoletter_hash\n",
    "        \"\"\"\n",
    "        return ord(self[1]) + 26 * ord(self[0])"
   ]
  },
  {
   "cell_type": "code",
   "execution_count": 26,
   "metadata": {},
   "outputs": [],
   "source": [
    "baddict = set()\n",
    "gooddict = set()\n",
    "\n",
    "for i in string.ascii_lowercase:\n",
    "    for j in string.ascii_lowercase:\n",
    "        key = i + j\n",
    "        baddict.add(BadHash(key))\n",
    "        gooddict.add(BadHash(key))"
   ]
  },
  {
   "cell_type": "code",
   "execution_count": 27,
   "metadata": {},
   "outputs": [],
   "source": [
    "badtime = timeit.repeat(\n",
    "    \"key in baddict\",\n",
    "    setup = \"from __main__ import baddict, BadHash; key = BadHash('zz')\",\n",
    "    repeat = 3,\n",
    "    number = 1000000,\n",
    ")\n",
    "\n",
    "goodtime = timeit.repeat(\n",
    "    \"key in gooddict\",\n",
    "    setup = \"from __main__ import gooddict, GoodHash; key = GoodHash('zz')\",\n",
    "    repeat = 3,\n",
    "    number = 1000000,\n",
    ")"
   ]
  },
  {
   "cell_type": "code",
   "execution_count": 28,
   "metadata": {},
   "outputs": [
    {
     "name": "stdout",
     "output_type": "stream",
     "text": [
      "Min lookup time for baddict:  14.968249684\n",
      "Min lookup time for gooddict:  0.27232210199998974\n"
     ]
    }
   ],
   "source": [
    "print(\"Min lookup time for baddict: \", min(badtime))\n",
    "print(\"Min lookup time for gooddict: \", min(goodtime))"
   ]
  },
  {
   "cell_type": "markdown",
   "metadata": {},
   "source": [
    "#### Result\n",
    "We can reduce the lookup time by setting up an efficient hash function."
   ]
  },
  {
   "cell_type": "markdown",
   "metadata": {},
   "source": [
    "## Dictionaries and Namespaces"
   ]
  },
  {
   "cell_type": "markdown",
   "metadata": {},
   "source": [
    "#### Example 4-8. Namespace lookups"
   ]
  },
  {
   "cell_type": "code",
   "execution_count": 29,
   "metadata": {},
   "outputs": [],
   "source": [
    "import math\n",
    "from math import sin\n",
    "\n",
    "def test1(x):\n",
    "    return math.sin(x)\n",
    "\n",
    "def test2(x):\n",
    "    return sin(x)\n",
    "\n",
    "def test3(x, local_sin=math.sin):\n",
    "    return local_sin(x)\n",
    "\n",
    "def test4(x, local_sin=sin):\n",
    "    return local_sin(x)"
   ]
  },
  {
   "cell_type": "code",
   "execution_count": 30,
   "metadata": {},
   "outputs": [
    {
     "name": "stdout",
     "output_type": "stream",
     "text": [
      "171 ns ± 7.26 ns per loop (mean ± std. dev. of 7 runs, 10000000 loops each)\n"
     ]
    }
   ],
   "source": [
    "%timeit test1(123456)"
   ]
  },
  {
   "cell_type": "code",
   "execution_count": 31,
   "metadata": {},
   "outputs": [
    {
     "name": "stdout",
     "output_type": "stream",
     "text": [
      "137 ns ± 6.42 ns per loop (mean ± std. dev. of 7 runs, 10000000 loops each)\n"
     ]
    }
   ],
   "source": [
    "%timeit test2(123456)"
   ]
  },
  {
   "cell_type": "code",
   "execution_count": 32,
   "metadata": {},
   "outputs": [
    {
     "name": "stdout",
     "output_type": "stream",
     "text": [
      "149 ns ± 4.78 ns per loop (mean ± std. dev. of 7 runs, 10000000 loops each)\n"
     ]
    }
   ],
   "source": [
    "%timeit test3(123456)"
   ]
  },
  {
   "cell_type": "code",
   "execution_count": 33,
   "metadata": {},
   "outputs": [
    {
     "name": "stdout",
     "output_type": "stream",
     "text": [
      "143 ns ± 4.41 ns per loop (mean ± std. dev. of 7 runs, 10000000 loops each)\n"
     ]
    }
   ],
   "source": [
    "%timeit test4(123456)"
   ]
  },
  {
   "cell_type": "markdown",
   "metadata": {},
   "source": [
    "#### Result\n",
    "- process speed: locals() > globals() > __builtin__\n",
    "- In test3 function, which assigns a global variable as an argument, so it must be taking a lot of time to process."
   ]
  },
  {
   "cell_type": "markdown",
   "metadata": {},
   "source": [
    "#### Example 4-10. Effects of slow namespace lookups in loops"
   ]
  },
  {
   "cell_type": "code",
   "execution_count": 34,
   "metadata": {},
   "outputs": [],
   "source": [
    "from math import sin\n",
    "\n",
    "def tight_loop_slow(iterations):\n",
    "    result = 0\n",
    "    for i in range(iterations):\n",
    "        # this call to sin requires a global lookup\n",
    "        result += sin(i)\n",
    "        \n",
    "def tight_loop_fast(iterations):\n",
    "    result = 0\n",
    "    local_sin=sin\n",
    "    for i in range(iterations):\n",
    "        # this call to local_sin requires a local lookup\n",
    "        result += local_sin(i)"
   ]
  },
  {
   "cell_type": "code",
   "execution_count": 35,
   "metadata": {},
   "outputs": [
    {
     "name": "stdout",
     "output_type": "stream",
     "text": [
      "1.27 s ± 37.7 ms per loop (mean ± std. dev. of 7 runs, 1 loop each)\n"
     ]
    }
   ],
   "source": [
    "%timeit tight_loop_slow(10000000)"
   ]
  },
  {
   "cell_type": "code",
   "execution_count": 36,
   "metadata": {},
   "outputs": [
    {
     "name": "stdout",
     "output_type": "stream",
     "text": [
      "1.05 s ± 20.7 ms per loop (mean ± std. dev. of 7 runs, 1 loop each)\n"
     ]
    }
   ],
   "source": [
    "%timeit tight_loop_fast(10000000)"
   ]
  }
 ],
 "metadata": {
  "kernelspec": {
   "display_name": "Python 3",
   "language": "python",
   "name": "python3"
  },
  "language_info": {
   "codemirror_mode": {
    "name": "ipython",
    "version": 3
   },
   "file_extension": ".py",
   "mimetype": "text/x-python",
   "name": "python",
   "nbconvert_exporter": "python",
   "pygments_lexer": "ipython3",
   "version": "3.7.3"
  }
 },
 "nbformat": 4,
 "nbformat_minor": 4
}
