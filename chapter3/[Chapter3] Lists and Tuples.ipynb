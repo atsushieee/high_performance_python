{
 "cells": [
  {
   "cell_type": "markdown",
   "metadata": {},
   "source": [
    "##### Problem\n",
    "What if we wanted to look up a specific item relative to its position in the list (e.g., list item in the 5th index) ?"
   ]
  },
  {
   "cell_type": "markdown",
   "metadata": {},
   "source": [
    "#### Example 3-1. Timings for list lookups for lists of different sizes"
   ]
  },
  {
   "cell_type": "code",
   "execution_count": 1,
   "metadata": {},
   "outputs": [
    {
     "name": "stdout",
     "output_type": "stream",
     "text": [
      "85.8 ns ± 3.66 ns per loop (mean ± std. dev. of 7 runs, 10000000 loops each)\n"
     ]
    }
   ],
   "source": [
    "l1 = range(10)\n",
    "%timeit l1[5]"
   ]
  },
  {
   "cell_type": "code",
   "execution_count": 2,
   "metadata": {},
   "outputs": [
    {
     "name": "stdout",
     "output_type": "stream",
     "text": [
      "105 ns ± 4.5 ns per loop (mean ± std. dev. of 7 runs, 10000000 loops each)\n"
     ]
    }
   ],
   "source": [
    "l2 = range(10000000)\n",
    "%timeit l2[100000]"
   ]
  },
  {
   "cell_type": "markdown",
   "metadata": {},
   "source": [
    "##### Result\n",
    "These lookup time is almost same! Because both searching count are once (O(1))"
   ]
  },
  {
   "cell_type": "markdown",
   "metadata": {},
   "source": [
    "<hr/>"
   ]
  },
  {
   "cell_type": "markdown",
   "metadata": {},
   "source": [
    "##### Problem\n",
    "What if we were given an array with an unknown order and wanted to retrieve a particular element?"
   ]
  },
  {
   "cell_type": "markdown",
   "metadata": {},
   "source": [
    "#### Example 3-2. A linear search through a list"
   ]
  },
  {
   "cell_type": "code",
   "execution_count": 3,
   "metadata": {},
   "outputs": [],
   "source": [
    "def linear_search(needle, array):\n",
    "    counter = 0\n",
    "    for i, item in enumerate(array):\n",
    "        counter += 1\n",
    "        if item == needle:\n",
    "#             print(counter)\n",
    "            return i\n",
    "#     print(counter)\n",
    "    return -1"
   ]
  },
  {
   "cell_type": "code",
   "execution_count": 4,
   "metadata": {},
   "outputs": [
    {
     "name": "stdout",
     "output_type": "stream",
     "text": [
      "642 ns ± 35.9 ns per loop (mean ± std. dev. of 7 runs, 1000000 loops each)\n"
     ]
    }
   ],
   "source": [
    "%timeit linear_search(5, l1)"
   ]
  },
  {
   "cell_type": "code",
   "execution_count": 5,
   "metadata": {},
   "outputs": [
    {
     "name": "stdout",
     "output_type": "stream",
     "text": [
      "591 ns ± 21.4 ns per loop (mean ± std. dev. of 7 runs, 1000000 loops each)\n"
     ]
    }
   ],
   "source": [
    "%timeit linear_search(5, l2)"
   ]
  },
  {
   "cell_type": "code",
   "execution_count": 6,
   "metadata": {},
   "outputs": [
    {
     "name": "stdout",
     "output_type": "stream",
     "text": [
      "8.27 ms ± 374 µs per loop (mean ± std. dev. of 7 runs, 100 loops each)\n"
     ]
    }
   ],
   "source": [
    "%timeit linear_search(100000, l2)"
   ]
  },
  {
   "cell_type": "markdown",
   "metadata": {},
   "source": [
    "##### Result\n",
    "- When you uncheck comment on Example 3-2, you can confirm searching count.\n",
    "- Depending on searching count, your lookup time changes (O(searching count)).\n",
    "- This algorithm has a worst-case performance of O(n)."
   ]
  },
  {
   "cell_type": "markdown",
   "metadata": {},
   "source": [
    "##### Solution\n",
    "- Dictionaries or sets -> O(1)\n",
    "- <span style=\"color: red; \">Lists whose data is sorted -> O(log n)</span>"
   ]
  },
  {
   "cell_type": "markdown",
   "metadata": {},
   "source": [
    "## A More Efficient Search"
   ]
  },
  {
   "cell_type": "markdown",
   "metadata": {},
   "source": [
    "#### Example 3-3. Efficient searching through a sorted list—binary search"
   ]
  },
  {
   "cell_type": "code",
   "execution_count": 7,
   "metadata": {},
   "outputs": [],
   "source": [
    "def binary_search(needle, haystack):\n",
    "    imin, imax = 0, len(haystack)\n",
    "    counter = 0\n",
    "    while True:\n",
    "        counter += 1\n",
    "        if imin >= imax:\n",
    "#             print(counter)\n",
    "            return -1\n",
    "        midpoint = (imin + imax) // 2\n",
    "        if haystack[midpoint] > needle:\n",
    "            imax = midpoint\n",
    "        elif haystack[midpoint] < needle:\n",
    "            imin = midpoint + 1\n",
    "        else:\n",
    "#             print(counter)\n",
    "            return midpoint"
   ]
  },
  {
   "cell_type": "code",
   "execution_count": 8,
   "metadata": {},
   "outputs": [
    {
     "name": "stdout",
     "output_type": "stream",
     "text": [
      "5.59 µs ± 148 ns per loop (mean ± std. dev. of 7 runs, 100000 loops each)\n"
     ]
    }
   ],
   "source": [
    "%timeit binary_search(100000, l2)"
   ]
  },
  {
   "cell_type": "code",
   "execution_count": 9,
   "metadata": {},
   "outputs": [
    {
     "name": "stdout",
     "output_type": "stream",
     "text": [
      "8.09 ms ± 146 µs per loop (mean ± std. dev. of 7 runs, 100 loops each)\n"
     ]
    }
   ],
   "source": [
    "%timeit linear_search(100000, l2)"
   ]
  },
  {
   "cell_type": "markdown",
   "metadata": {},
   "source": [
    "##### Result\n",
    "In comparison with two functions by unchecking comment on Example 3-3,\n",
    "- binary_search's searching count: 21\n",
    "- linear_search's searching count: 100000\n",
    "\n",
    "So the processing speed is completely different."
   ]
  },
  {
   "cell_type": "markdown",
   "metadata": {},
   "source": [
    "#### Example 3-4. Finding close values in a list with the bisect module"
   ]
  },
  {
   "cell_type": "code",
   "execution_count": 10,
   "metadata": {},
   "outputs": [],
   "source": [
    "import bisect\n",
    "import random\n",
    "\n",
    "def find_closest(haystack, needle):\n",
    "    # bisect.bisect_left will return the first index in the haystack that is greater than the needle\n",
    "    i = bisect.bisect_left(haystack, needle)\n",
    "    if i == len(haystack):\n",
    "        return i - 1\n",
    "    elif haystack[i] == needle:\n",
    "        return\n",
    "    elif i > 0:\n",
    "        j = i - 1\n",
    "        if haystack[i] - needle > needle - haystack[j]:\n",
    "            return j\n",
    "    return i"
   ]
  },
  {
   "cell_type": "code",
   "execution_count": 11,
   "metadata": {},
   "outputs": [
    {
     "name": "stdout",
     "output_type": "stream",
     "text": [
      "[135, 135, 385, 444, 703, 766, 906, 974, 978, 981]\n"
     ]
    }
   ],
   "source": [
    "important_numbers = []\n",
    "\n",
    "for i in range(10):\n",
    "    new_number = random.randint(0, 1000)\n",
    "    # bisect.bisect_left will be inserted new element in order\n",
    "    bisect.insort(important_numbers, new_number)\n",
    "\n",
    "print(important_numbers)"
   ]
  },
  {
   "cell_type": "code",
   "execution_count": 12,
   "metadata": {},
   "outputs": [
    {
     "name": "stdout",
     "output_type": "stream",
     "text": [
      "Closest value to -250:  135\n",
      "Closest value to 500:  444\n",
      "Closest value to 1100:  981\n"
     ]
    }
   ],
   "source": [
    "closest_index = find_closest(important_numbers, -250)\n",
    "print(\"Closest value to -250: \", important_numbers[closest_index])\n",
    "\n",
    "closest_index = find_closest(important_numbers, 500)\n",
    "print(\"Closest value to 500: \", important_numbers[closest_index])\n",
    "\n",
    "closest_index = find_closest(important_numbers, 1100)\n",
    "print(\"Closest value to 1100: \", important_numbers[closest_index])"
   ]
  },
  {
   "cell_type": "markdown",
   "metadata": {},
   "source": [
    "##### Reference\n",
    "How fast is searching algorithm using bisect.bisect_left?"
   ]
  },
  {
   "cell_type": "code",
   "execution_count": 13,
   "metadata": {},
   "outputs": [
    {
     "name": "stdout",
     "output_type": "stream",
     "text": [
      "2.5 µs ± 66 ns per loop (mean ± std. dev. of 7 runs, 100000 loops each)\n"
     ]
    }
   ],
   "source": [
    "%timeit bisect.bisect_left(l2, 100000)"
   ]
  },
  {
   "cell_type": "markdown",
   "metadata": {},
   "source": [
    "##### Result\n",
    "- This processing speed is almost similar to binary_search function. (Example 3-2)\n",
    "- I assumed that binary_search function has a little more conditional branching so takes extra processing time"
   ]
  },
  {
   "cell_type": "markdown",
   "metadata": {},
   "source": [
    "## Lists Versus Tuples"
   ]
  },
  {
   "cell_type": "markdown",
   "metadata": {},
   "source": [
    "### Lists as Dynamic Arrays"
   ]
  },
  {
   "cell_type": "markdown",
   "metadata": {},
   "source": [
    "##### Problem\n",
    "What happens to the allocated memory transition, when we append numbers to the list one by one?"
   ]
  },
  {
   "cell_type": "markdown",
   "metadata": {},
   "source": [
    "#### Example 3-6. Resizing of a list"
   ]
  },
  {
   "cell_type": "code",
   "execution_count": 15,
   "metadata": {},
   "outputs": [],
   "source": [
    "import sys\n",
    "import copy\n",
    "\n",
    "l3 = [1]\n",
    "overallocated_mem = [0]\n",
    "\n",
    "for i in range(2, 10000):\n",
    "    l3.append(i)\n",
    "    # Make new list: Shallow copy of l3\n",
    "    temp_list = copy.copy(l3)\n",
    "    overallocated_mem.append(sys.getsizeof(l3) - sys.getsizeof(temp_list))"
   ]
  },
  {
   "cell_type": "code",
   "execution_count": 16,
   "metadata": {},
   "outputs": [
    {
     "data": {
      "text/plain": [
       "[<matplotlib.lines.Line2D at 0x1259a85c0>]"
      ]
     },
     "execution_count": 16,
     "metadata": {},
     "output_type": "execute_result"
    },
    {
     "data": {
      "image/png": "[encoded data removed]",
      "text/plain": [
       "<Figure size 432x288 with 1 Axes>"
      ]
     },
     "metadata": {
      "needs_background": "light"
     },
     "output_type": "display_data"
    }
   ],
   "source": [
    "import matplotlib.pyplot as plt\n",
    "\n",
    "fig = plt.figure()\n",
    "ax = fig.add_subplot(111, title='Overallocation in lists' , xlabel='Size of the list', ylabel='Number of elements overallocated')\n",
    "ax.plot(l3, overallocated_mem)"
   ]
  },
  {
   "cell_type": "markdown",
   "metadata": {},
   "source": [
    "##### Result\n",
    "- While the amount of extra headroom allocated is generally quite small, it can add up.\n",
    "- If we're appending a lot of elements, we need to pay attention to memory allocation."
   ]
  },
  {
   "cell_type": "markdown",
   "metadata": {},
   "source": [
    "### Tuples As Static Arrays"
   ]
  },
  {
   "cell_type": "markdown",
   "metadata": {},
   "source": [
    "##### Problem\n",
    "Tuple can not be appended elements later, but what happens in the case of concatenation?"
   ]
  },
  {
   "cell_type": "code",
   "execution_count": 17,
   "metadata": {},
   "outputs": [
    {
     "name": "stdout",
     "output_type": "stream",
     "text": [
      "4926785080\n",
      "4528712104\n"
     ]
    }
   ],
   "source": [
    "t1 = (1, 2, 3, 4)\n",
    "t2 = (5, 6, 7, 8)\n",
    "print(id(t1))\n",
    "print(id(t2))"
   ]
  },
  {
   "cell_type": "code",
   "execution_count": 18,
   "metadata": {},
   "outputs": [
    {
     "data": {
      "text/plain": [
       "4925584664"
      ]
     },
     "execution_count": 18,
     "metadata": {},
     "output_type": "execute_result"
    }
   ],
   "source": [
    "id(t1 + t2)"
   ]
  },
  {
   "cell_type": "markdown",
   "metadata": {},
   "source": [
    "##### Result\n",
    "When two tuples are concatenated together, a new tuple is formed."
   ]
  },
  {
   "cell_type": "markdown",
   "metadata": {},
   "source": [
    "<hr>"
   ]
  },
  {
   "cell_type": "markdown",
   "metadata": {},
   "source": [
    "##### Problem\n",
    "What if we compare with type of list and tuple?"
   ]
  },
  {
   "cell_type": "code",
   "execution_count": 19,
   "metadata": {},
   "outputs": [
    {
     "name": "stdout",
     "output_type": "stream",
     "text": [
      "57.9 ns ± 2.09 ns per loop (mean ± std. dev. of 7 runs, 10000000 loops each)\n"
     ]
    }
   ],
   "source": [
    "%timeit l4 = [0, 1, 2, 3, 4, 5, 6, 7, 8, 9]"
   ]
  },
  {
   "cell_type": "code",
   "execution_count": 20,
   "metadata": {},
   "outputs": [
    {
     "data": {
      "text/plain": [
       "144"
      ]
     },
     "execution_count": 20,
     "metadata": {},
     "output_type": "execute_result"
    }
   ],
   "source": [
    "l4 = [0, 1, 2, 3, 4, 5, 6, 7, 8, 9]\n",
    "sys.getsizeof(l4)"
   ]
  },
  {
   "cell_type": "code",
   "execution_count": null,
   "metadata": {},
   "outputs": [],
   "source": [
    "%timeit t3 = (0, 1, 2, 3, 4, 5, 6, 7, 8, 9)"
   ]
  },
  {
   "cell_type": "code",
   "execution_count": null,
   "metadata": {},
   "outputs": [],
   "source": [
    "t3 = (0, 1, 2, 3, 4, 5, 6, 7, 8, 9)\n",
    "sys.getsizeof(t3)"
   ]
  },
  {
   "cell_type": "markdown",
   "metadata": {},
   "source": [
    "##### Result\n",
    "- Instantiation of tuple object is faster than that of list object.\n",
    "- Size of tuple object is larger than  that of list object."
   ]
  },
  {
   "cell_type": "markdown",
   "metadata": {},
   "source": [
    "## Reference\n",
    "- [bisect — Array bisection algorithm](https://docs.python.org/3/library/bisect.html)\n",
    "- [Dark Secrets of Python Memory Allocation](https://towardsdatascience.com/dark-secrets-of-python-memory-allocation-c5d22879d8a9)"
   ]
  }
 ],
 "metadata": {
  "kernelspec": {
   "display_name": "Python 3",
   "language": "python",
   "name": "python3"
  },
  "language_info": {
   "codemirror_mode": {
    "name": "ipython",
    "version": 3
   },
   "file_extension": ".py",
   "mimetype": "text/x-python",
   "name": "python",
   "nbconvert_exporter": "python",
   "pygments_lexer": "ipython3",
   "version": "3.7.3"
  }
 },
 "nbformat": 4,
 "nbformat_minor": 4
}
