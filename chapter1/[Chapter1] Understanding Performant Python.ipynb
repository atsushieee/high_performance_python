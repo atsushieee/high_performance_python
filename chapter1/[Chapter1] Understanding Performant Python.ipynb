{
 "cells": [
  {
   "cell_type": "markdown",
   "metadata": {
    "deletable": true,
    "editable": true
   },
   "source": [
    "## Putting the Fundamental Elements Together"
   ]
  },
  {
   "cell_type": "markdown",
   "metadata": {
    "deletable": true,
    "editable": true
   },
   "source": [
    "### Idealized Computing Versus the Python Virtual Machine"
   ]
  },
  {
   "cell_type": "code",
   "execution_count": 1,
   "metadata": {
    "collapsed": true,
    "deletable": true,
    "editable": true
   },
   "outputs": [],
   "source": [
    "import math"
   ]
  },
  {
   "cell_type": "code",
   "execution_count": 2,
   "metadata": {
    "collapsed": true,
    "deletable": true,
    "editable": true
   },
   "outputs": [],
   "source": [
    "def check_prime(number):\n",
    "    counter = 0\n",
    "    sqrt_number = math.sqrt(number)\n",
    "    number_float = float(number)\n",
    "    for i in range(2, int(sqrt_number)+1):\n",
    "        counter += 1\n",
    "        if (number_float / i).is_integer():\n",
    "#             print(counter)\n",
    "            return False\n",
    "#     print(counter)\n",
    "    return True"
   ]
  },
  {
   "cell_type": "code",
   "execution_count": 3,
   "metadata": {
    "collapsed": false,
    "deletable": true,
    "editable": true
   },
   "outputs": [
    {
     "name": "stdout",
     "output_type": "stream",
     "text": [
      "check_prime(10000000) =  False\n",
      "check_prime(10000019) =  True\n"
     ]
    }
   ],
   "source": [
    "print(\"check_prime(10000000) = \", check_prime(10000000)) # False\n",
    "print(\"check_prime(10000019) = \", check_prime(10000019)) # True"
   ]
  },
  {
   "cell_type": "code",
   "execution_count": 4,
   "metadata": {
    "collapsed": false,
    "deletable": true,
    "editable": true
   },
   "outputs": [
    {
     "name": "stdout",
     "output_type": "stream",
     "text": [
      "The slowest run took 8.43 times longer than the fastest. This could mean that an intermediate result is being cached.\n",
      "1000000 loops, best of 3: 739 ns per loop\n"
     ]
    }
   ],
   "source": [
    "%timeit check_prime(10000000)"
   ]
  },
  {
   "cell_type": "code",
   "execution_count": 5,
   "metadata": {
    "collapsed": false,
    "deletable": true,
    "editable": true
   },
   "outputs": [
    {
     "name": "stdout",
     "output_type": "stream",
     "text": [
      "1000 loops, best of 3: 347 µs per loop\n"
     ]
    }
   ],
   "source": [
    "%timeit check_prime(10000019)"
   ]
  },
  {
   "cell_type": "markdown",
   "metadata": {
    "deletable": true,
    "editable": true
   },
   "source": [
    "##### Result\n",
    "When you uncheck comment on check_prime function, you can confirm searching count.\n",
    "\n",
    "- check_prime(10000000)'s searching count: 1\n",
    "- check_prime(10000019)'s searching count: 3161\n",
    "\n",
    "So the processing speed is completely different.<br>\n",
    "Ideally, we want to minimize the number of data transfers from memory and cache to CPU"
   ]
  },
  {
   "cell_type": "markdown",
   "metadata": {
    "deletable": true,
    "editable": true
   },
   "source": [
    "##### Python’s virtual machine"
   ]
  },
  {
   "cell_type": "code",
   "execution_count": 6,
   "metadata": {
    "collapsed": true,
    "deletable": true,
    "editable": true
   },
   "outputs": [],
   "source": [
    "def search_fast(haystack, needle):\n",
    "    counter = 0\n",
    "    for item in haystack:\n",
    "        counter += 1\n",
    "        if item == needle:\n",
    "#             print(counter)\n",
    "            return True\n",
    "#     print(counter)\n",
    "    return False\n",
    "\n",
    "def search_slow(haystack, needle):\n",
    "    counter = 0\n",
    "    return_value = False\n",
    "    for item in haystack:\n",
    "        counter += 1\n",
    "        if item == needle:\n",
    "            return_value = True\n",
    "#     print(counter)\n",
    "    return return_value"
   ]
  },
  {
   "cell_type": "code",
   "execution_count": 7,
   "metadata": {
    "collapsed": true,
    "deletable": true,
    "editable": true
   },
   "outputs": [],
   "source": [
    "l = range(0, 10000000)\n",
    "searching_value = 0"
   ]
  },
  {
   "cell_type": "code",
   "execution_count": 8,
   "metadata": {
    "collapsed": false,
    "deletable": true,
    "editable": true
   },
   "outputs": [
    {
     "name": "stdout",
     "output_type": "stream",
     "text": [
      "The slowest run took 5.76 times longer than the fastest. This could mean that an intermediate result is being cached.\n",
      "10000000 loops, best of 3: 174 ns per loop\n"
     ]
    }
   ],
   "source": [
    "%timeit search_fast(l, searching_value)"
   ]
  },
  {
   "cell_type": "code",
   "execution_count": 9,
   "metadata": {
    "collapsed": false,
    "deletable": true,
    "editable": true
   },
   "outputs": [
    {
     "name": "stdout",
     "output_type": "stream",
     "text": [
      "1 loop, best of 3: 520 ms per loop\n"
     ]
    }
   ],
   "source": [
    "%timeit search_slow(l, searching_value)"
   ]
  },
  {
   "cell_type": "markdown",
   "metadata": {
    "deletable": true,
    "editable": true
   },
   "source": [
    "##### Result\n",
    "When you uncheck comment on search_fast and search_slow function, you can confirm searching count.\n",
    "\n",
    "- search_fast's searching count: 1\n",
    "- search_slow's searching count: 10000000\n",
    "\n",
    "So the processing speed is completely different."
   ]
  }
 ],
 "metadata": {
  "kernelspec": {
   "display_name": "Python 3",
   "language": "python",
   "name": "python3"
  },
  "language_info": {
   "codemirror_mode": {
    "name": "ipython",
    "version": 3
   },
   "file_extension": ".py",
   "mimetype": "text/x-python",
   "name": "python",
   "nbconvert_exporter": "python",
   "pygments_lexer": "ipython3",
   "version": "3.6.2"
  }
 },
 "nbformat": 4,
 "nbformat_minor": 4
}
