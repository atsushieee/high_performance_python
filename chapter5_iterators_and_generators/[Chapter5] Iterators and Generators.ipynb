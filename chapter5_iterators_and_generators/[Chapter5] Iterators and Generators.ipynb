{
 "cells": [
  {
   "cell_type": "code",
   "execution_count": 1,
   "metadata": {},
   "outputs": [],
   "source": [
    "def list_range(start, stop, step=1):\n",
    "    numbers = []\n",
    "    while start < stop:\n",
    "        numbers.append(start)\n",
    "        start += step\n",
    "    \n",
    "    return numbers"
   ]
  },
  {
   "cell_type": "code",
   "execution_count": 2,
   "metadata": {},
   "outputs": [],
   "source": [
    "def iterator_range(start, stop, step=1):\n",
    "    while start < stop:\n",
    "        yield start\n",
    "        start += step"
   ]
  },
  {
   "cell_type": "code",
   "execution_count": 3,
   "metadata": {},
   "outputs": [
    {
     "name": "stdout",
     "output_type": "stream",
     "text": [
      "920 µs ± 41.1 µs per loop (mean ± std. dev. of 7 runs, 1000 loops each)\n"
     ]
    }
   ],
   "source": [
    "%timeit list_range(1,10000)"
   ]
  },
  {
   "cell_type": "code",
   "execution_count": 4,
   "metadata": {},
   "outputs": [
    {
     "name": "stdout",
     "output_type": "stream",
     "text": [
      "190 ns ± 10.2 ns per loop (mean ± std. dev. of 7 runs, 1000000 loops each)\n"
     ]
    }
   ],
   "source": [
    "%timeit iterator_range(1,10000)"
   ]
  },
  {
   "cell_type": "markdown",
   "metadata": {},
   "source": [
    "#### Result\n",
    "TODO: There was a big difference in processing time between list and iterator."
   ]
  },
  {
   "cell_type": "markdown",
   "metadata": {},
   "source": [
    "<hr>"
   ]
  },
  {
   "cell_type": "markdown",
   "metadata": {},
   "source": [
    "#### Problem\n",
    "What are the differences between list and generator in terms of memory usage?"
   ]
  },
  {
   "cell_type": "code",
   "execution_count": 5,
   "metadata": {},
   "outputs": [],
   "source": [
    "# del [list_of_numbers]"
   ]
  },
  {
   "cell_type": "code",
   "execution_count": 6,
   "metadata": {},
   "outputs": [],
   "source": [
    "list_of_numbers = range(1, 10000000)"
   ]
  },
  {
   "cell_type": "code",
   "execution_count": 7,
   "metadata": {},
   "outputs": [
    {
     "name": "stdout",
     "output_type": "stream",
     "text": [
      "peak memory: 159.46 MiB, increment: 112.68 MiB\n"
     ]
    }
   ],
   "source": [
    "# list object\n",
    "%memit len([n for n in list_of_numbers if n % 3 == 0])"
   ]
  },
  {
   "cell_type": "code",
   "execution_count": 8,
   "metadata": {},
   "outputs": [
    {
     "name": "stdout",
     "output_type": "stream",
     "text": [
      "peak memory: 54.18 MiB, increment: 0.00 MiB\n"
     ]
    }
   ],
   "source": [
    "#  generator object\n",
    "%memit sum((1 for n in list_of_numbers if n % 3 == 0))"
   ]
  },
  {
   "cell_type": "markdown",
   "metadata": {},
   "source": [
    "#### Result\n",
    "The memory impact of the generator version is far less than that of the list comprehension. Please check the value of memory increment."
   ]
  },
  {
   "cell_type": "markdown",
   "metadata": {},
   "source": [
    "## Iterators for Infinite Series"
   ]
  },
  {
   "cell_type": "code",
   "execution_count": 9,
   "metadata": {},
   "outputs": [],
   "source": [
    "def fibonacci():\n",
    "    i, j = 0, 1\n",
    "    while True:\n",
    "        yield j\n",
    "        i, j = j, i + j"
   ]
  },
  {
   "cell_type": "markdown",
   "metadata": {},
   "source": [
    "#### Problem\n",
    "- fibbonacci function\n",
    "- the number is less than 5000\n",
    "- tne number is odd\n",
    "\n",
    "To find the number of integers that satisfy the above conditions, we compare the following three different functions."
   ]
  },
  {
   "cell_type": "code",
   "execution_count": 10,
   "metadata": {},
   "outputs": [],
   "source": [
    "def fibonacci_naive():\n",
    "    i, j = 0, 1\n",
    "    count = 0\n",
    "    while j <= 5000:\n",
    "        if j % 2:\n",
    "            count += 1\n",
    "        i, j = j, i + j\n",
    "    return count\n",
    "\n",
    "def fibonacci_transform():\n",
    "    count = 0\n",
    "    for f in fibonacci():\n",
    "        if f > 5000:\n",
    "            break\n",
    "        count += 1\n",
    "    return count\n",
    "\n",
    "from itertools import islice\n",
    "def fibonacci_succinct():\n",
    "    is_odd = lambda x: x % 2\n",
    "    first_5000 = islice(fibonacci(), 0, 5000)\n",
    "    return sum((1 for elem in first_5000 if is_odd(elem)))"
   ]
  },
  {
   "cell_type": "code",
   "execution_count": 11,
   "metadata": {},
   "outputs": [
    {
     "name": "stdout",
     "output_type": "stream",
     "text": [
      "1.77 µs ± 59.9 ns per loop (mean ± std. dev. of 7 runs, 1000000 loops each)\n",
      "peak memory: 54.23 MiB, increment: 0.01 MiB\n"
     ]
    }
   ],
   "source": [
    "%timeit fibonacci_naive()\n",
    "%memit fibonacci_naive()"
   ]
  },
  {
   "cell_type": "code",
   "execution_count": 12,
   "metadata": {},
   "outputs": [
    {
     "name": "stdout",
     "output_type": "stream",
     "text": [
      "2.12 µs ± 123 ns per loop (mean ± std. dev. of 7 runs, 100000 loops each)\n",
      "peak memory: 54.24 MiB, increment: 0.00 MiB\n"
     ]
    }
   ],
   "source": [
    "%timeit fibonacci_transform()\n",
    "%memit fibonacci_transform()"
   ]
  },
  {
   "cell_type": "code",
   "execution_count": 13,
   "metadata": {},
   "outputs": [
    {
     "name": "stdout",
     "output_type": "stream",
     "text": [
      "3.97 ms ± 170 µs per loop (mean ± std. dev. of 7 runs, 100 loops each)\n",
      "peak memory: 54.24 MiB, increment: 0.00 MiB\n"
     ]
    }
   ],
   "source": [
    "%timeit fibonacci_succinct()\n",
    "%memit fibonacci_succinct()"
   ]
  },
  {
   "cell_type": "markdown",
   "metadata": {},
   "source": [
    "#### Result\n",
    "- All of these methods have similar runtime properties\n",
    "- fibonacci_transform() is much more verbose than fibonacci_succinct(), but s it will be easy for another developer to debug and understand.\n",
    "- One of good points in fibonacci_transform() can be separated into two phases: generating data and transforming data."
   ]
  },
  {
   "cell_type": "markdown",
   "metadata": {},
   "source": [
    "## Lazy Generator Evaluation"
   ]
  },
  {
   "cell_type": "markdown",
   "metadata": {},
   "source": [
    "#### Example 5-2. Lazily reading data"
   ]
  },
  {
   "cell_type": "code",
   "execution_count": 14,
   "metadata": {},
   "outputs": [],
   "source": [
    "from random import normalvariate, random\n",
    "from itertools import count\n",
    "\n",
    "# Function to generate a random number every second\n",
    "def read_fake_data():\n",
    "    for i in count():\n",
    "        sigma = random() * 10\n",
    "        yield (i, normalvariate(0, sigma))"
   ]
  },
  {
   "cell_type": "markdown",
   "metadata": {},
   "source": [
    "#### Example 5-3. Grouping our data"
   ]
  },
  {
   "cell_type": "code",
   "execution_count": 15,
   "metadata": {},
   "outputs": [],
   "source": [
    "from datetime import date\n",
    "from itertools import groupby\n",
    "\n",
    "# The output is a generator that produces tuples whose items are the key for the group by day\n",
    "def day_grouper(iterable):\n",
    "    key = lambda timestamp_value : date.fromtimestamp(timestamp_value[0])\n",
    "    return groupby(iterable, key)"
   ]
  },
  {
   "cell_type": "markdown",
   "metadata": {},
   "source": [
    "#### Example 5-4. Generator-based anomaly detection"
   ]
  },
  {
   "cell_type": "code",
   "execution_count": 16,
   "metadata": {},
   "outputs": [],
   "source": [
    "import math\n",
    "\n",
    "# anomaly detection\n",
    "# When a value 6 sigma away from that day’s mean is anomaly.\n",
    "def check_anomaly(day_grouped_data):\n",
    "    # We find the mean, standard deviation and maximum values for the day.\n",
    "    # Using a single pass mean/standard deviation algorithm allows us to only\n",
    "    # read through the day's data once.\n",
    "    (day, day_data) = day_grouped_data\n",
    "    n = 0\n",
    "    mean = 0\n",
    "    M2 = 0\n",
    "    max_value = 0\n",
    "\n",
    "    for timestamp, value in day_data:\n",
    "        n += 1\n",
    "        delta = value - mean\n",
    "        mean = mean + delta/n\n",
    "        M2 += delta*(value - mean)\n",
    "        max_value = max(max_value, value)\n",
    "    \n",
    "    variance = M2/(n - 1)\n",
    "    standard_deviation = math.sqrt(variance)\n",
    "    \n",
    "    # Here is the actual check of whether that day's data is anomalous.  If it\n",
    "    # is, we return the value of the day, otherwise we return false\n",
    "    if max_value > mean + 6 * standard_deviation:\n",
    "        return True\n",
    "    return False"
   ]
  },
  {
   "cell_type": "markdown",
   "metadata": {},
   "source": [
    "#### Example 5-5. Chaining together our generators"
   ]
  },
  {
   "cell_type": "code",
   "execution_count": 17,
   "metadata": {},
   "outputs": [
    {
     "name": "stdout",
     "output_type": "stream",
     "text": [
      "The first anomalous date is:  1970-01-02\n",
      "The next ten anomalous date is: \n",
      "\n",
      "1970-01-03\n",
      "1970-01-04\n",
      "1970-01-05\n",
      "1970-01-08\n",
      "1970-01-09\n",
      "1970-01-10\n",
      "1970-01-12\n",
      "1970-01-13\n",
      "1970-01-15\n",
      "1970-01-16\n"
     ]
    }
   ],
   "source": [
    "from itertools import filterfalse\n",
    "\n",
    "data = read_fake_data()\n",
    "\n",
    "data_day = day_grouper(data)\n",
    "anomalous_dates = filter(check_anomaly, data_day)\n",
    "\n",
    "first_anomalous_date, first_anomalous_data = next(anomalous_dates)\n",
    "print(\"The first anomalous date is: \", first_anomalous_date)\n",
    "\n",
    "ten_anomalous_date = islice(anomalous_dates, 0, 10)\n",
    "print(\"The next ten anomalous date is: \\n\")\n",
    "for anomalous_date in list(ten_anomalous_date):\n",
    "    print(anomalous_date[0])"
   ]
  },
  {
   "cell_type": "code",
   "execution_count": 18,
   "metadata": {},
   "outputs": [],
   "source": [
    "from datetime import datetime\n",
    "\n",
    "def rolling_window_grouper(data, window_size=3600):\n",
    "    window = tuple(islice(data, window_size))\n",
    "    while True:\n",
    "        current_datetime = datetime.fromtimestamp(window[0][0])\n",
    "        yield (current_datetime, window)\n",
    "        window = window[1:] + (next(data),)"
   ]
  },
  {
   "cell_type": "code",
   "execution_count": 19,
   "metadata": {},
   "outputs": [
    {
     "name": "stdout",
     "output_type": "stream",
     "text": [
      "The first anomalous date is:  1970-01-02 08:08:38\n",
      "The second anomalous date is:  1970-01-02 08:08:41\n"
     ]
    }
   ],
   "source": [
    "data = read_fake_data()\n",
    "\n",
    "data_day = rolling_window_grouper(data)\n",
    "anomalous_dates = filter(check_anomaly, data_day)\n",
    "\n",
    "first_anomalous_date, first_anomalous_data = next(anomalous_dates)\n",
    "print(\"The first anomalous date is: \", first_anomalous_date)\n",
    "second_anomalous_date, second_anomalous_data = next(anomalous_dates)\n",
    "print(\"The second anomalous date is: \", second_anomalous_date)"
   ]
  }
 ],
 "metadata": {
  "kernelspec": {
   "display_name": "Python 3",
   "language": "python",
   "name": "python3"
  },
  "language_info": {
   "codemirror_mode": {
    "name": "ipython",
    "version": 3
   },
   "file_extension": ".py",
   "mimetype": "text/x-python",
   "name": "python",
   "nbconvert_exporter": "python",
   "pygments_lexer": "ipython3",
   "version": "3.7.3"
  }
 },
 "nbformat": 4,
 "nbformat_minor": 4
}
